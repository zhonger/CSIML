{
 "cells": [
  {
   "cell_type": "code",
   "execution_count": 1,
   "metadata": {
    "collapsed": true,
    "pycharm": {
     "name": "#%%\n"
    }
   },
   "outputs": [],
   "source": [
    "import json\n",
    "\n",
    "import numpy as np\n",
    "import pandas as pd\n",
    "from sklearn import preprocessing\n",
    "\n",
    "import SIML.CV.cv as cv\n",
    "import SIML.Plot.plot as plot\n",
    "from SIML.Method.base import PredictOnlyMajor, PredictWithMinor"
   ]
  },
  {
   "cell_type": "code",
   "execution_count": null,
   "metadata": {
    "pycharm": {
     "is_executing": true,
     "name": "#%%\n"
    }
   },
   "outputs": [
    {
     "name": "stdout",
     "output_type": "stream",
     "text": [
      "Size        Train    Validation    Test    Total\n",
      "--------  -------  ------------  ------  -------\n",
      "Majority      271            68      85      424\n",
      "Minority       28             7       9       44\n",
      "Split data: OK\n"
     ]
    }
   ],
   "source": [
    "data = pd.read_excel(\"bandgap.xlsx\", sheet_name=\"468\")\n",
    "features = [\"Number\", \"AtomicWeight\", \"Period\", \"Group\", \"Family\",\n",
    "            \"LQuantumNumber\", \"MendeleevNumber\",\n",
    "            \"AtomicRadius\", \"CovalentRadius\", \"ZungerRadius\", \"IonicRadius\", \"CrystalRadius\",\n",
    "            \"Electronegativity\", \"MartynovBatsanovEN\", \"GordyEN\", \"MullikenEN\", \"AllenEN\",\n",
    "            \"MetallicValence\",\n",
    "            \"NValence\", \"NsValence\", \"NpValence\", \"NdValence\", \"NUnfilled\",\n",
    "            \"FirstIonizationEnergy\", \"Polarizability\",\n",
    "            \"MeltingT\", \"BoilingT\", \"Density\",\n",
    "            \"SpecificHeat\", \"HeatFusion\", \"HeatVaporization\", \"ThermalConductivity\", \"HeatAtomization\",\n",
    "            \"CohesiveEnergy\"]\n",
    "stats = [\"maximum\", \"minimum\", \"avg_dev\", \"mean\"]\n",
    "\n",
    "cv_method = \"siml\"\n",
    "# cv_method = \"pls\"\n",
    "# cv_method = \"jpcl\"\n",
    "# cv_method = \"basis1\"\n",
    "# basic_model = \"SVR\"\n",
    "parameters = dict(C = 10, gamma = 0.01)\n",
    "# cv.CalSize(data, cv_method)\n",
    "\n",
    "# plot.PlotBar(data, 0.3, 0.5)\n",
    "# plot.PlotPeriod(data)\n",
    "# plot.PlotCirle(data)\n",
    "\n",
    "\n",
    "# data, X, y = MakeFeatures(data, features, stats)\n",
    "# excel_writer = pd.ExcelWriter(\"bandgap.xlsx\", mode=\"a\", engine=\"openpyxl\", if_sheet_exists=\"replace\")\n",
    "# pd.DataFrame(data).to_excel(excel_writer, sheet_name=\"468\")\n",
    "# excel_writer.save()\n",
    "\n",
    "X = data.iloc[:, 3:].fillna(0).values\n",
    "X = preprocessing.MinMaxScaler().fit_transform(pd.DataFrame(X))  # Normalization\n",
    "y = data.iloc[:, 1].values\n",
    "\n",
    "cv.CalSize(data, cv_method)\n",
    "split_data = cv.SplitData(data, cv_method)\n",
    "\n",
    "# results = PredictOnlyMajor(data, X, y, split_data, parameters)\n",
    "results = PredictWithMinor(data, X, y, split_data, parameters)\n",
    "\n",
    "# summarys = AnalysisResults(results, \"basis1\")\n",
    "\n",
    "# a_list = np.array(results).tolist()\n",
    "# WriteList(a_list)"
   ]
  },
  {
   "cell_type": "code",
   "execution_count": null,
   "metadata": {
    "pycharm": {
     "is_executing": true,
     "name": "#%%\n"
    }
   },
   "outputs": [],
   "source": []
  },
  {
   "cell_type": "markdown",
   "metadata": {
    "pycharm": {
     "name": "#%% md\n"
    }
   },
   "source": []
  },
  {
   "cell_type": "markdown",
   "metadata": {
    "pycharm": {
     "name": "#%% md\n"
    }
   },
   "source": []
  }
 ],
 "metadata": {
  "kernelspec": {
   "display_name": "Python 3 (ipykernel)",
   "language": "python",
   "name": "python3"
  },
  "language_info": {
   "codemirror_mode": {
    "name": "ipython",
    "version": 3
   },
   "file_extension": ".py",
   "mimetype": "text/x-python",
   "name": "python",
   "nbconvert_exporter": "python",
   "pygments_lexer": "ipython3",
   "version": "3.10.4"
  }
 },
 "nbformat": 4,
 "nbformat_minor": 1
}