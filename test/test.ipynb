{
 "cells": [
  {
   "cell_type": "code",
   "execution_count": 1,
   "metadata": {
    "collapsed": true,
    "pycharm": {
     "name": "#%%\n"
    }
   },
   "outputs": [],
   "source": [
    "import json\n",
    "\n",
    "import numpy as np\n",
    "import pandas as pd\n",
    "from sklearn import preprocessing\n",
    "\n",
    "import SIML.CV.cv as cv\n",
    "import SIML.Plot.plot as plot\n",
    "from SIML.Method.base import PredictOnlyMajor, PredictWithMinor"
   ]
  },
  {
   "cell_type": "code",
   "execution_count": null,
   "metadata": {
    "pycharm": {
     "is_executing": true,
     "name": "#%%\n"
    }
   },
   "outputs": [
    {
     "name": "stdout",
     "output_type": "stream",
     "text": [
      "Size        Train    Validation    Test    Total\n",
      "--------  -------  ------------  ------  -------\n",
      "Majority      271            68      85      424\n",
      "Minority       28             7       9       44\n",
      "Split data: OK\n"
     ]
    }
   ],
   "source": [
    "data = pd.read_excel(\"bandgap.xlsx\", sheet_name=\"468\")\n",
    "features = [\"Number\", \"AtomicWeight\", \"Period\", \"Group\", \"Family\",\n",
    "            \"LQuantumNumber\", \"MendeleevNumber\",\n",
    "            \"AtomicRadius\", \"CovalentRadius\", \"ZungerRadius\", \"IonicRadius\", \"CrystalRadius\",\n",
    "            \"Electronegativity\", \"MartynovBatsanovEN\", \"GordyEN\", \"MullikenEN\", \"AllenEN\",\n",
    "            \"MetallicValence\",\n",
    "            \"NValence\", \"NsValence\", \"NpValence\", \"NdValence\", \"NUnfilled\",\n",
    "            \"FirstIonizationEnergy\", \"Polarizability\",\n",
    "            \"MeltingT\", \"BoilingT\", \"Density\",\n",
    "            \"SpecificHeat\", \"HeatFusion\", \"HeatVaporization\", \"ThermalConductivity\", \"HeatAtomization\",\n",
    "            \"CohesiveEnergy\"]\n",
    "stats = [\"maximum\", \"minimum\", \"avg_dev\", \"mean\"]\n",
    "\n",
    "cv_method = \"siml\"\n",
    "# cv_method = \"pls\"\n",
    "# cv_method = \"jpcl\"\n",
    "# cv_method = \"basis1\"\n",
    "# basic_model = \"SVR\"\n",
    "parameters = dict(C = 10, gamma = 0.01)\n",
    "# cv.CalSize(data, cv_method)\n",
    "\n",
    "# plot.PlotBar(data, 0.3, 0.5)\n",
    "# plot.PlotPeriod(data)\n",
    "# plot.PlotCirle(data)\n",
    "\n",
    "\n",
    "# data, X, y = MakeFeatures(data, features, stats)\n",
    "# excel_writer = pd.ExcelWriter(\"bandgap.xlsx\", mode=\"a\", engine=\"openpyxl\", if_sheet_exists=\"replace\")\n",
    "# pd.DataFrame(data).to_excel(excel_writer, sheet_name=\"468\")\n",
    "# excel_writer.save()\n",
    "\n",
    "X = data.iloc[:, 3:].fillna(0).values\n",
    "X = preprocessing.MinMaxScaler().fit_transform(pd.DataFrame(X))  # Normalization\n",
    "y = data.iloc[:, 1].values\n",
    "\n",
    "cv.CalSize(data, cv_method)\n",
    "split_data = cv.SplitData(data, cv_method)\n",
    "\n",
    "# results = PredictOnlyMajor(data, X, y, split_data, parameters)\n",
    "results = PredictWithMinor(data, X, y, split_data, parameters)\n",
    "\n",
    "# summarys = AnalysisResults(results, \"basis1\")\n",
    "\n",
    "# a_list = np.array(results).tolist()\n",
    "# WriteList(a_list)"
   ]
  },
  {
   "cell_type": "code",
   "execution_count": 12,
   "metadata": {
    "pycharm": {
     "is_executing": true,
     "name": "#%%\n"
    }
   },
   "outputs": [
    {
     "data": {
      "text/plain": [
       "2"
      ]
     },
     "execution_count": 12,
     "metadata": {},
     "output_type": "execute_result"
    }
   ],
   "source": [
    "y_test = array([0.    , 0.    , 0.4646, 4.621 , 3.1997, 0.866 , 3.7594, 2.2467,\n",
    "       2.2658, 2.2869, 0.    , 0.3313, 0.2349, 0.7542, 2.2403, 1.6933,\n",
    "       0.    , 0.5305, 0.1955, 0.237 , 0.    , 0.8427, 3.4622, 1.8827,\n",
    "       5.1405, 5.24  , 5.3247, 5.7   , 5.7732, 5.9551, 6.0023, 6.1348,\n",
    "       6.1417, 6.3929, 6.6101, 6.8127, 6.8955, 7.2867, 7.6481, 8.8405,\n",
    "          nan])"
   ]
  },
  {
   "cell_type": "code",
   "execution_count": 2,
   "metadata": {},
   "outputs": [
    {
     "data": {
      "text/plain": [
       "[5, 4, 3, 2, 1]"
      ]
     },
     "execution_count": 2,
     "metadata": {},
     "output_type": "execute_result"
    }
   ],
   "source": [
    "from collections import Counter\n",
    "temp = Counter('abcdeabcdabcaba')\n",
    "list(temp.values())"
   ]
  },
  {
   "cell_type": "code",
   "execution_count": null,
   "metadata": {},
   "outputs": [],
   "source": []
  }
 ],
 "metadata": {
  "kernelspec": {
   "display_name": "Python 3.10.5 ('SIML')",
   "language": "python",
   "name": "python3"
  },
  "language_info": {
   "codemirror_mode": {
    "name": "ipython",
    "version": 3
   },
   "file_extension": ".py",
   "mimetype": "text/x-python",
   "name": "python",
   "nbconvert_exporter": "python",
   "pygments_lexer": "ipython3",
   "version": "3.10.5"
  },
  "vscode": {
   "interpreter": {
    "hash": "8b6107c859730c6fd88c7109e6a2e433d5c6569a54a2e92f4bff12a22dcd42c8"
   }
  }
 },
 "nbformat": 4,
 "nbformat_minor": 1
}
